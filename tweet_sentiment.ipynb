{
  "nbformat": 4,
  "nbformat_minor": 0,
  "metadata": {
    "colab": {
      "name": "tweet_sentiment.ipynb",
      "provenance": []
    },
    "kernelspec": {
      "name": "python3",
      "display_name": "Python 3"
    },
    "language_info": {
      "name": "python"
    },
    "accelerator": "GPU",
    "widgets": {
      "application/vnd.jupyter.widget-state+json": {
        "4f74a5000e524de09e6ac78ea5887bb7": {
          "model_module": "@jupyter-widgets/controls",
          "model_name": "HBoxModel",
          "state": {
            "_view_name": "HBoxView",
            "_dom_classes": [],
            "_model_name": "HBoxModel",
            "_view_module": "@jupyter-widgets/controls",
            "_model_module_version": "1.5.0",
            "_view_count": null,
            "_view_module_version": "1.5.0",
            "box_style": "",
            "layout": "IPY_MODEL_d0ab3d0ad4e540128d1ba0ac0faad616",
            "_model_module": "@jupyter-widgets/controls",
            "children": [
              "IPY_MODEL_7874f94c8a684d65aa954b62bcdddcdf",
              "IPY_MODEL_b3dba71f731b45ca8721627a11a6f010"
            ]
          }
        },
        "d0ab3d0ad4e540128d1ba0ac0faad616": {
          "model_module": "@jupyter-widgets/base",
          "model_name": "LayoutModel",
          "state": {
            "_view_name": "LayoutView",
            "grid_template_rows": null,
            "right": null,
            "justify_content": null,
            "_view_module": "@jupyter-widgets/base",
            "overflow": null,
            "_model_module_version": "1.2.0",
            "_view_count": null,
            "flex_flow": null,
            "width": null,
            "min_width": null,
            "border": null,
            "align_items": null,
            "bottom": null,
            "_model_module": "@jupyter-widgets/base",
            "top": null,
            "grid_column": null,
            "overflow_y": null,
            "overflow_x": null,
            "grid_auto_flow": null,
            "grid_area": null,
            "grid_template_columns": null,
            "flex": null,
            "_model_name": "LayoutModel",
            "justify_items": null,
            "grid_row": null,
            "max_height": null,
            "align_content": null,
            "visibility": null,
            "align_self": null,
            "height": null,
            "min_height": null,
            "padding": null,
            "grid_auto_rows": null,
            "grid_gap": null,
            "max_width": null,
            "order": null,
            "_view_module_version": "1.2.0",
            "grid_template_areas": null,
            "object_position": null,
            "object_fit": null,
            "grid_auto_columns": null,
            "margin": null,
            "display": null,
            "left": null
          }
        },
        "7874f94c8a684d65aa954b62bcdddcdf": {
          "model_module": "@jupyter-widgets/controls",
          "model_name": "FloatProgressModel",
          "state": {
            "_view_name": "ProgressView",
            "style": "IPY_MODEL_9832e485b57e4c4584e873ceae3038b6",
            "_dom_classes": [],
            "description": "Downloading: 100%",
            "_model_name": "FloatProgressModel",
            "bar_style": "success",
            "max": 231508,
            "_view_module": "@jupyter-widgets/controls",
            "_model_module_version": "1.5.0",
            "value": 231508,
            "_view_count": null,
            "_view_module_version": "1.5.0",
            "orientation": "horizontal",
            "min": 0,
            "description_tooltip": null,
            "_model_module": "@jupyter-widgets/controls",
            "layout": "IPY_MODEL_5442a081a1ea4da99c8752b9031c9103"
          }
        },
        "b3dba71f731b45ca8721627a11a6f010": {
          "model_module": "@jupyter-widgets/controls",
          "model_name": "HTMLModel",
          "state": {
            "_view_name": "HTMLView",
            "style": "IPY_MODEL_71cb1858fe914cbe93b8f89236d3a6ff",
            "_dom_classes": [],
            "description": "",
            "_model_name": "HTMLModel",
            "placeholder": "​",
            "_view_module": "@jupyter-widgets/controls",
            "_model_module_version": "1.5.0",
            "value": " 232k/232k [00:00&lt;00:00, 306kB/s]",
            "_view_count": null,
            "_view_module_version": "1.5.0",
            "description_tooltip": null,
            "_model_module": "@jupyter-widgets/controls",
            "layout": "IPY_MODEL_1c8d06ff4cb3417a83da83926e6b2be6"
          }
        },
        "9832e485b57e4c4584e873ceae3038b6": {
          "model_module": "@jupyter-widgets/controls",
          "model_name": "ProgressStyleModel",
          "state": {
            "_view_name": "StyleView",
            "_model_name": "ProgressStyleModel",
            "description_width": "initial",
            "_view_module": "@jupyter-widgets/base",
            "_model_module_version": "1.5.0",
            "_view_count": null,
            "_view_module_version": "1.2.0",
            "bar_color": null,
            "_model_module": "@jupyter-widgets/controls"
          }
        },
        "5442a081a1ea4da99c8752b9031c9103": {
          "model_module": "@jupyter-widgets/base",
          "model_name": "LayoutModel",
          "state": {
            "_view_name": "LayoutView",
            "grid_template_rows": null,
            "right": null,
            "justify_content": null,
            "_view_module": "@jupyter-widgets/base",
            "overflow": null,
            "_model_module_version": "1.2.0",
            "_view_count": null,
            "flex_flow": null,
            "width": null,
            "min_width": null,
            "border": null,
            "align_items": null,
            "bottom": null,
            "_model_module": "@jupyter-widgets/base",
            "top": null,
            "grid_column": null,
            "overflow_y": null,
            "overflow_x": null,
            "grid_auto_flow": null,
            "grid_area": null,
            "grid_template_columns": null,
            "flex": null,
            "_model_name": "LayoutModel",
            "justify_items": null,
            "grid_row": null,
            "max_height": null,
            "align_content": null,
            "visibility": null,
            "align_self": null,
            "height": null,
            "min_height": null,
            "padding": null,
            "grid_auto_rows": null,
            "grid_gap": null,
            "max_width": null,
            "order": null,
            "_view_module_version": "1.2.0",
            "grid_template_areas": null,
            "object_position": null,
            "object_fit": null,
            "grid_auto_columns": null,
            "margin": null,
            "display": null,
            "left": null
          }
        },
        "71cb1858fe914cbe93b8f89236d3a6ff": {
          "model_module": "@jupyter-widgets/controls",
          "model_name": "DescriptionStyleModel",
          "state": {
            "_view_name": "StyleView",
            "_model_name": "DescriptionStyleModel",
            "description_width": "",
            "_view_module": "@jupyter-widgets/base",
            "_model_module_version": "1.5.0",
            "_view_count": null,
            "_view_module_version": "1.2.0",
            "_model_module": "@jupyter-widgets/controls"
          }
        },
        "1c8d06ff4cb3417a83da83926e6b2be6": {
          "model_module": "@jupyter-widgets/base",
          "model_name": "LayoutModel",
          "state": {
            "_view_name": "LayoutView",
            "grid_template_rows": null,
            "right": null,
            "justify_content": null,
            "_view_module": "@jupyter-widgets/base",
            "overflow": null,
            "_model_module_version": "1.2.0",
            "_view_count": null,
            "flex_flow": null,
            "width": null,
            "min_width": null,
            "border": null,
            "align_items": null,
            "bottom": null,
            "_model_module": "@jupyter-widgets/base",
            "top": null,
            "grid_column": null,
            "overflow_y": null,
            "overflow_x": null,
            "grid_auto_flow": null,
            "grid_area": null,
            "grid_template_columns": null,
            "flex": null,
            "_model_name": "LayoutModel",
            "justify_items": null,
            "grid_row": null,
            "max_height": null,
            "align_content": null,
            "visibility": null,
            "align_self": null,
            "height": null,
            "min_height": null,
            "padding": null,
            "grid_auto_rows": null,
            "grid_gap": null,
            "max_width": null,
            "order": null,
            "_view_module_version": "1.2.0",
            "grid_template_areas": null,
            "object_position": null,
            "object_fit": null,
            "grid_auto_columns": null,
            "margin": null,
            "display": null,
            "left": null
          }
        },
        "3d7bddb1ce3a47eeb2d39ddbc46930b3": {
          "model_module": "@jupyter-widgets/controls",
          "model_name": "HBoxModel",
          "state": {
            "_view_name": "HBoxView",
            "_dom_classes": [],
            "_model_name": "HBoxModel",
            "_view_module": "@jupyter-widgets/controls",
            "_model_module_version": "1.5.0",
            "_view_count": null,
            "_view_module_version": "1.5.0",
            "box_style": "",
            "layout": "IPY_MODEL_6ce29a8979b941ef8c773f3ac2526460",
            "_model_module": "@jupyter-widgets/controls",
            "children": [
              "IPY_MODEL_e49b224341e945668bc943e86461dab7",
              "IPY_MODEL_4143d08fc14242f6b020157f3eac326e"
            ]
          }
        },
        "6ce29a8979b941ef8c773f3ac2526460": {
          "model_module": "@jupyter-widgets/base",
          "model_name": "LayoutModel",
          "state": {
            "_view_name": "LayoutView",
            "grid_template_rows": null,
            "right": null,
            "justify_content": null,
            "_view_module": "@jupyter-widgets/base",
            "overflow": null,
            "_model_module_version": "1.2.0",
            "_view_count": null,
            "flex_flow": null,
            "width": null,
            "min_width": null,
            "border": null,
            "align_items": null,
            "bottom": null,
            "_model_module": "@jupyter-widgets/base",
            "top": null,
            "grid_column": null,
            "overflow_y": null,
            "overflow_x": null,
            "grid_auto_flow": null,
            "grid_area": null,
            "grid_template_columns": null,
            "flex": null,
            "_model_name": "LayoutModel",
            "justify_items": null,
            "grid_row": null,
            "max_height": null,
            "align_content": null,
            "visibility": null,
            "align_self": null,
            "height": null,
            "min_height": null,
            "padding": null,
            "grid_auto_rows": null,
            "grid_gap": null,
            "max_width": null,
            "order": null,
            "_view_module_version": "1.2.0",
            "grid_template_areas": null,
            "object_position": null,
            "object_fit": null,
            "grid_auto_columns": null,
            "margin": null,
            "display": null,
            "left": null
          }
        },
        "e49b224341e945668bc943e86461dab7": {
          "model_module": "@jupyter-widgets/controls",
          "model_name": "FloatProgressModel",
          "state": {
            "_view_name": "ProgressView",
            "style": "IPY_MODEL_294f1dafa67f442a89742428a087afa3",
            "_dom_classes": [],
            "description": "Downloading: 100%",
            "_model_name": "FloatProgressModel",
            "bar_style": "success",
            "max": 28,
            "_view_module": "@jupyter-widgets/controls",
            "_model_module_version": "1.5.0",
            "value": 28,
            "_view_count": null,
            "_view_module_version": "1.5.0",
            "orientation": "horizontal",
            "min": 0,
            "description_tooltip": null,
            "_model_module": "@jupyter-widgets/controls",
            "layout": "IPY_MODEL_17d74326dae84c609aa9d6825af0043c"
          }
        },
        "4143d08fc14242f6b020157f3eac326e": {
          "model_module": "@jupyter-widgets/controls",
          "model_name": "HTMLModel",
          "state": {
            "_view_name": "HTMLView",
            "style": "IPY_MODEL_ae070f25d5a84fb9915ab7e55263a814",
            "_dom_classes": [],
            "description": "",
            "_model_name": "HTMLModel",
            "placeholder": "​",
            "_view_module": "@jupyter-widgets/controls",
            "_model_module_version": "1.5.0",
            "value": " 28.0/28.0 [00:00&lt;00:00, 133B/s]",
            "_view_count": null,
            "_view_module_version": "1.5.0",
            "description_tooltip": null,
            "_model_module": "@jupyter-widgets/controls",
            "layout": "IPY_MODEL_62be19467dff4c8a9edd3148667a679a"
          }
        },
        "294f1dafa67f442a89742428a087afa3": {
          "model_module": "@jupyter-widgets/controls",
          "model_name": "ProgressStyleModel",
          "state": {
            "_view_name": "StyleView",
            "_model_name": "ProgressStyleModel",
            "description_width": "initial",
            "_view_module": "@jupyter-widgets/base",
            "_model_module_version": "1.5.0",
            "_view_count": null,
            "_view_module_version": "1.2.0",
            "bar_color": null,
            "_model_module": "@jupyter-widgets/controls"
          }
        },
        "17d74326dae84c609aa9d6825af0043c": {
          "model_module": "@jupyter-widgets/base",
          "model_name": "LayoutModel",
          "state": {
            "_view_name": "LayoutView",
            "grid_template_rows": null,
            "right": null,
            "justify_content": null,
            "_view_module": "@jupyter-widgets/base",
            "overflow": null,
            "_model_module_version": "1.2.0",
            "_view_count": null,
            "flex_flow": null,
            "width": null,
            "min_width": null,
            "border": null,
            "align_items": null,
            "bottom": null,
            "_model_module": "@jupyter-widgets/base",
            "top": null,
            "grid_column": null,
            "overflow_y": null,
            "overflow_x": null,
            "grid_auto_flow": null,
            "grid_area": null,
            "grid_template_columns": null,
            "flex": null,
            "_model_name": "LayoutModel",
            "justify_items": null,
            "grid_row": null,
            "max_height": null,
            "align_content": null,
            "visibility": null,
            "align_self": null,
            "height": null,
            "min_height": null,
            "padding": null,
            "grid_auto_rows": null,
            "grid_gap": null,
            "max_width": null,
            "order": null,
            "_view_module_version": "1.2.0",
            "grid_template_areas": null,
            "object_position": null,
            "object_fit": null,
            "grid_auto_columns": null,
            "margin": null,
            "display": null,
            "left": null
          }
        },
        "ae070f25d5a84fb9915ab7e55263a814": {
          "model_module": "@jupyter-widgets/controls",
          "model_name": "DescriptionStyleModel",
          "state": {
            "_view_name": "StyleView",
            "_model_name": "DescriptionStyleModel",
            "description_width": "",
            "_view_module": "@jupyter-widgets/base",
            "_model_module_version": "1.5.0",
            "_view_count": null,
            "_view_module_version": "1.2.0",
            "_model_module": "@jupyter-widgets/controls"
          }
        },
        "62be19467dff4c8a9edd3148667a679a": {
          "model_module": "@jupyter-widgets/base",
          "model_name": "LayoutModel",
          "state": {
            "_view_name": "LayoutView",
            "grid_template_rows": null,
            "right": null,
            "justify_content": null,
            "_view_module": "@jupyter-widgets/base",
            "overflow": null,
            "_model_module_version": "1.2.0",
            "_view_count": null,
            "flex_flow": null,
            "width": null,
            "min_width": null,
            "border": null,
            "align_items": null,
            "bottom": null,
            "_model_module": "@jupyter-widgets/base",
            "top": null,
            "grid_column": null,
            "overflow_y": null,
            "overflow_x": null,
            "grid_auto_flow": null,
            "grid_area": null,
            "grid_template_columns": null,
            "flex": null,
            "_model_name": "LayoutModel",
            "justify_items": null,
            "grid_row": null,
            "max_height": null,
            "align_content": null,
            "visibility": null,
            "align_self": null,
            "height": null,
            "min_height": null,
            "padding": null,
            "grid_auto_rows": null,
            "grid_gap": null,
            "max_width": null,
            "order": null,
            "_view_module_version": "1.2.0",
            "grid_template_areas": null,
            "object_position": null,
            "object_fit": null,
            "grid_auto_columns": null,
            "margin": null,
            "display": null,
            "left": null
          }
        },
        "92fa6b449707457eabc58560541765a7": {
          "model_module": "@jupyter-widgets/controls",
          "model_name": "HBoxModel",
          "state": {
            "_view_name": "HBoxView",
            "_dom_classes": [],
            "_model_name": "HBoxModel",
            "_view_module": "@jupyter-widgets/controls",
            "_model_module_version": "1.5.0",
            "_view_count": null,
            "_view_module_version": "1.5.0",
            "box_style": "",
            "layout": "IPY_MODEL_e9c8250f049a4e4d8616c2ba394ffd64",
            "_model_module": "@jupyter-widgets/controls",
            "children": [
              "IPY_MODEL_2792551eec264acd90cff8caa7777369",
              "IPY_MODEL_7e85094b4da544788862a1b0b2d9b3ca"
            ]
          }
        },
        "e9c8250f049a4e4d8616c2ba394ffd64": {
          "model_module": "@jupyter-widgets/base",
          "model_name": "LayoutModel",
          "state": {
            "_view_name": "LayoutView",
            "grid_template_rows": null,
            "right": null,
            "justify_content": null,
            "_view_module": "@jupyter-widgets/base",
            "overflow": null,
            "_model_module_version": "1.2.0",
            "_view_count": null,
            "flex_flow": null,
            "width": null,
            "min_width": null,
            "border": null,
            "align_items": null,
            "bottom": null,
            "_model_module": "@jupyter-widgets/base",
            "top": null,
            "grid_column": null,
            "overflow_y": null,
            "overflow_x": null,
            "grid_auto_flow": null,
            "grid_area": null,
            "grid_template_columns": null,
            "flex": null,
            "_model_name": "LayoutModel",
            "justify_items": null,
            "grid_row": null,
            "max_height": null,
            "align_content": null,
            "visibility": null,
            "align_self": null,
            "height": null,
            "min_height": null,
            "padding": null,
            "grid_auto_rows": null,
            "grid_gap": null,
            "max_width": null,
            "order": null,
            "_view_module_version": "1.2.0",
            "grid_template_areas": null,
            "object_position": null,
            "object_fit": null,
            "grid_auto_columns": null,
            "margin": null,
            "display": null,
            "left": null
          }
        },
        "2792551eec264acd90cff8caa7777369": {
          "model_module": "@jupyter-widgets/controls",
          "model_name": "FloatProgressModel",
          "state": {
            "_view_name": "ProgressView",
            "style": "IPY_MODEL_3bbc2b5a3bdb40abb57a6843c8cf410d",
            "_dom_classes": [],
            "description": "Downloading: 100%",
            "_model_name": "FloatProgressModel",
            "bar_style": "success",
            "max": 466062,
            "_view_module": "@jupyter-widgets/controls",
            "_model_module_version": "1.5.0",
            "value": 466062,
            "_view_count": null,
            "_view_module_version": "1.5.0",
            "orientation": "horizontal",
            "min": 0,
            "description_tooltip": null,
            "_model_module": "@jupyter-widgets/controls",
            "layout": "IPY_MODEL_32a32d31044f4db0b2bf5236931223b8"
          }
        },
        "7e85094b4da544788862a1b0b2d9b3ca": {
          "model_module": "@jupyter-widgets/controls",
          "model_name": "HTMLModel",
          "state": {
            "_view_name": "HTMLView",
            "style": "IPY_MODEL_6042606690df4c93b898b9e951f5d0da",
            "_dom_classes": [],
            "description": "",
            "_model_name": "HTMLModel",
            "placeholder": "​",
            "_view_module": "@jupyter-widgets/controls",
            "_model_module_version": "1.5.0",
            "value": " 466k/466k [00:00&lt;00:00, 2.83MB/s]",
            "_view_count": null,
            "_view_module_version": "1.5.0",
            "description_tooltip": null,
            "_model_module": "@jupyter-widgets/controls",
            "layout": "IPY_MODEL_fcfbcd5f9eb649e4be4a5f25104a7c32"
          }
        },
        "3bbc2b5a3bdb40abb57a6843c8cf410d": {
          "model_module": "@jupyter-widgets/controls",
          "model_name": "ProgressStyleModel",
          "state": {
            "_view_name": "StyleView",
            "_model_name": "ProgressStyleModel",
            "description_width": "initial",
            "_view_module": "@jupyter-widgets/base",
            "_model_module_version": "1.5.0",
            "_view_count": null,
            "_view_module_version": "1.2.0",
            "bar_color": null,
            "_model_module": "@jupyter-widgets/controls"
          }
        },
        "32a32d31044f4db0b2bf5236931223b8": {
          "model_module": "@jupyter-widgets/base",
          "model_name": "LayoutModel",
          "state": {
            "_view_name": "LayoutView",
            "grid_template_rows": null,
            "right": null,
            "justify_content": null,
            "_view_module": "@jupyter-widgets/base",
            "overflow": null,
            "_model_module_version": "1.2.0",
            "_view_count": null,
            "flex_flow": null,
            "width": null,
            "min_width": null,
            "border": null,
            "align_items": null,
            "bottom": null,
            "_model_module": "@jupyter-widgets/base",
            "top": null,
            "grid_column": null,
            "overflow_y": null,
            "overflow_x": null,
            "grid_auto_flow": null,
            "grid_area": null,
            "grid_template_columns": null,
            "flex": null,
            "_model_name": "LayoutModel",
            "justify_items": null,
            "grid_row": null,
            "max_height": null,
            "align_content": null,
            "visibility": null,
            "align_self": null,
            "height": null,
            "min_height": null,
            "padding": null,
            "grid_auto_rows": null,
            "grid_gap": null,
            "max_width": null,
            "order": null,
            "_view_module_version": "1.2.0",
            "grid_template_areas": null,
            "object_position": null,
            "object_fit": null,
            "grid_auto_columns": null,
            "margin": null,
            "display": null,
            "left": null
          }
        },
        "6042606690df4c93b898b9e951f5d0da": {
          "model_module": "@jupyter-widgets/controls",
          "model_name": "DescriptionStyleModel",
          "state": {
            "_view_name": "StyleView",
            "_model_name": "DescriptionStyleModel",
            "description_width": "",
            "_view_module": "@jupyter-widgets/base",
            "_model_module_version": "1.5.0",
            "_view_count": null,
            "_view_module_version": "1.2.0",
            "_model_module": "@jupyter-widgets/controls"
          }
        },
        "fcfbcd5f9eb649e4be4a5f25104a7c32": {
          "model_module": "@jupyter-widgets/base",
          "model_name": "LayoutModel",
          "state": {
            "_view_name": "LayoutView",
            "grid_template_rows": null,
            "right": null,
            "justify_content": null,
            "_view_module": "@jupyter-widgets/base",
            "overflow": null,
            "_model_module_version": "1.2.0",
            "_view_count": null,
            "flex_flow": null,
            "width": null,
            "min_width": null,
            "border": null,
            "align_items": null,
            "bottom": null,
            "_model_module": "@jupyter-widgets/base",
            "top": null,
            "grid_column": null,
            "overflow_y": null,
            "overflow_x": null,
            "grid_auto_flow": null,
            "grid_area": null,
            "grid_template_columns": null,
            "flex": null,
            "_model_name": "LayoutModel",
            "justify_items": null,
            "grid_row": null,
            "max_height": null,
            "align_content": null,
            "visibility": null,
            "align_self": null,
            "height": null,
            "min_height": null,
            "padding": null,
            "grid_auto_rows": null,
            "grid_gap": null,
            "max_width": null,
            "order": null,
            "_view_module_version": "1.2.0",
            "grid_template_areas": null,
            "object_position": null,
            "object_fit": null,
            "grid_auto_columns": null,
            "margin": null,
            "display": null,
            "left": null
          }
        },
        "fac0fae9bb7e493dbc619aff01ea8c56": {
          "model_module": "@jupyter-widgets/controls",
          "model_name": "HBoxModel",
          "state": {
            "_view_name": "HBoxView",
            "_dom_classes": [],
            "_model_name": "HBoxModel",
            "_view_module": "@jupyter-widgets/controls",
            "_model_module_version": "1.5.0",
            "_view_count": null,
            "_view_module_version": "1.5.0",
            "box_style": "",
            "layout": "IPY_MODEL_da30aa1884914fb0a7dde66f0b11e3d3",
            "_model_module": "@jupyter-widgets/controls",
            "children": [
              "IPY_MODEL_30c60eda0612418eb9ec6a627de486b5",
              "IPY_MODEL_d31f4487efeb4d139d255df981c024d8"
            ]
          }
        },
        "da30aa1884914fb0a7dde66f0b11e3d3": {
          "model_module": "@jupyter-widgets/base",
          "model_name": "LayoutModel",
          "state": {
            "_view_name": "LayoutView",
            "grid_template_rows": null,
            "right": null,
            "justify_content": null,
            "_view_module": "@jupyter-widgets/base",
            "overflow": null,
            "_model_module_version": "1.2.0",
            "_view_count": null,
            "flex_flow": null,
            "width": null,
            "min_width": null,
            "border": null,
            "align_items": null,
            "bottom": null,
            "_model_module": "@jupyter-widgets/base",
            "top": null,
            "grid_column": null,
            "overflow_y": null,
            "overflow_x": null,
            "grid_auto_flow": null,
            "grid_area": null,
            "grid_template_columns": null,
            "flex": null,
            "_model_name": "LayoutModel",
            "justify_items": null,
            "grid_row": null,
            "max_height": null,
            "align_content": null,
            "visibility": null,
            "align_self": null,
            "height": null,
            "min_height": null,
            "padding": null,
            "grid_auto_rows": null,
            "grid_gap": null,
            "max_width": null,
            "order": null,
            "_view_module_version": "1.2.0",
            "grid_template_areas": null,
            "object_position": null,
            "object_fit": null,
            "grid_auto_columns": null,
            "margin": null,
            "display": null,
            "left": null
          }
        },
        "30c60eda0612418eb9ec6a627de486b5": {
          "model_module": "@jupyter-widgets/controls",
          "model_name": "FloatProgressModel",
          "state": {
            "_view_name": "ProgressView",
            "style": "IPY_MODEL_2bda907813294839b8b19482671ff6ad",
            "_dom_classes": [],
            "description": "Downloading: 100%",
            "_model_name": "FloatProgressModel",
            "bar_style": "success",
            "max": 570,
            "_view_module": "@jupyter-widgets/controls",
            "_model_module_version": "1.5.0",
            "value": 570,
            "_view_count": null,
            "_view_module_version": "1.5.0",
            "orientation": "horizontal",
            "min": 0,
            "description_tooltip": null,
            "_model_module": "@jupyter-widgets/controls",
            "layout": "IPY_MODEL_44eb3e911bb24a7983ee95ba8f273b07"
          }
        },
        "d31f4487efeb4d139d255df981c024d8": {
          "model_module": "@jupyter-widgets/controls",
          "model_name": "HTMLModel",
          "state": {
            "_view_name": "HTMLView",
            "style": "IPY_MODEL_4cf04391aeb24f8f8cb9ee76e07ce06b",
            "_dom_classes": [],
            "description": "",
            "_model_name": "HTMLModel",
            "placeholder": "​",
            "_view_module": "@jupyter-widgets/controls",
            "_model_module_version": "1.5.0",
            "value": " 570/570 [10:51&lt;00:00, 1.14s/B]",
            "_view_count": null,
            "_view_module_version": "1.5.0",
            "description_tooltip": null,
            "_model_module": "@jupyter-widgets/controls",
            "layout": "IPY_MODEL_3c204d6d1d1847549b4e317033dcec6d"
          }
        },
        "2bda907813294839b8b19482671ff6ad": {
          "model_module": "@jupyter-widgets/controls",
          "model_name": "ProgressStyleModel",
          "state": {
            "_view_name": "StyleView",
            "_model_name": "ProgressStyleModel",
            "description_width": "initial",
            "_view_module": "@jupyter-widgets/base",
            "_model_module_version": "1.5.0",
            "_view_count": null,
            "_view_module_version": "1.2.0",
            "bar_color": null,
            "_model_module": "@jupyter-widgets/controls"
          }
        },
        "44eb3e911bb24a7983ee95ba8f273b07": {
          "model_module": "@jupyter-widgets/base",
          "model_name": "LayoutModel",
          "state": {
            "_view_name": "LayoutView",
            "grid_template_rows": null,
            "right": null,
            "justify_content": null,
            "_view_module": "@jupyter-widgets/base",
            "overflow": null,
            "_model_module_version": "1.2.0",
            "_view_count": null,
            "flex_flow": null,
            "width": null,
            "min_width": null,
            "border": null,
            "align_items": null,
            "bottom": null,
            "_model_module": "@jupyter-widgets/base",
            "top": null,
            "grid_column": null,
            "overflow_y": null,
            "overflow_x": null,
            "grid_auto_flow": null,
            "grid_area": null,
            "grid_template_columns": null,
            "flex": null,
            "_model_name": "LayoutModel",
            "justify_items": null,
            "grid_row": null,
            "max_height": null,
            "align_content": null,
            "visibility": null,
            "align_self": null,
            "height": null,
            "min_height": null,
            "padding": null,
            "grid_auto_rows": null,
            "grid_gap": null,
            "max_width": null,
            "order": null,
            "_view_module_version": "1.2.0",
            "grid_template_areas": null,
            "object_position": null,
            "object_fit": null,
            "grid_auto_columns": null,
            "margin": null,
            "display": null,
            "left": null
          }
        },
        "4cf04391aeb24f8f8cb9ee76e07ce06b": {
          "model_module": "@jupyter-widgets/controls",
          "model_name": "DescriptionStyleModel",
          "state": {
            "_view_name": "StyleView",
            "_model_name": "DescriptionStyleModel",
            "description_width": "",
            "_view_module": "@jupyter-widgets/base",
            "_model_module_version": "1.5.0",
            "_view_count": null,
            "_view_module_version": "1.2.0",
            "_model_module": "@jupyter-widgets/controls"
          }
        },
        "3c204d6d1d1847549b4e317033dcec6d": {
          "model_module": "@jupyter-widgets/base",
          "model_name": "LayoutModel",
          "state": {
            "_view_name": "LayoutView",
            "grid_template_rows": null,
            "right": null,
            "justify_content": null,
            "_view_module": "@jupyter-widgets/base",
            "overflow": null,
            "_model_module_version": "1.2.0",
            "_view_count": null,
            "flex_flow": null,
            "width": null,
            "min_width": null,
            "border": null,
            "align_items": null,
            "bottom": null,
            "_model_module": "@jupyter-widgets/base",
            "top": null,
            "grid_column": null,
            "overflow_y": null,
            "overflow_x": null,
            "grid_auto_flow": null,
            "grid_area": null,
            "grid_template_columns": null,
            "flex": null,
            "_model_name": "LayoutModel",
            "justify_items": null,
            "grid_row": null,
            "max_height": null,
            "align_content": null,
            "visibility": null,
            "align_self": null,
            "height": null,
            "min_height": null,
            "padding": null,
            "grid_auto_rows": null,
            "grid_gap": null,
            "max_width": null,
            "order": null,
            "_view_module_version": "1.2.0",
            "grid_template_areas": null,
            "object_position": null,
            "object_fit": null,
            "grid_auto_columns": null,
            "margin": null,
            "display": null,
            "left": null
          }
        },
        "3016ab9b888e4ac6be9d70681d0ab920": {
          "model_module": "@jupyter-widgets/controls",
          "model_name": "HBoxModel",
          "state": {
            "_view_name": "HBoxView",
            "_dom_classes": [],
            "_model_name": "HBoxModel",
            "_view_module": "@jupyter-widgets/controls",
            "_model_module_version": "1.5.0",
            "_view_count": null,
            "_view_module_version": "1.5.0",
            "box_style": "",
            "layout": "IPY_MODEL_3ac5e4421cfe407da63b2babb42bb52f",
            "_model_module": "@jupyter-widgets/controls",
            "children": [
              "IPY_MODEL_b26b41ace1734d8eaaa4dcc78b015997",
              "IPY_MODEL_2c88b216094a474a96bc6d158212b11d"
            ]
          }
        },
        "3ac5e4421cfe407da63b2babb42bb52f": {
          "model_module": "@jupyter-widgets/base",
          "model_name": "LayoutModel",
          "state": {
            "_view_name": "LayoutView",
            "grid_template_rows": null,
            "right": null,
            "justify_content": null,
            "_view_module": "@jupyter-widgets/base",
            "overflow": null,
            "_model_module_version": "1.2.0",
            "_view_count": null,
            "flex_flow": null,
            "width": null,
            "min_width": null,
            "border": null,
            "align_items": null,
            "bottom": null,
            "_model_module": "@jupyter-widgets/base",
            "top": null,
            "grid_column": null,
            "overflow_y": null,
            "overflow_x": null,
            "grid_auto_flow": null,
            "grid_area": null,
            "grid_template_columns": null,
            "flex": null,
            "_model_name": "LayoutModel",
            "justify_items": null,
            "grid_row": null,
            "max_height": null,
            "align_content": null,
            "visibility": null,
            "align_self": null,
            "height": null,
            "min_height": null,
            "padding": null,
            "grid_auto_rows": null,
            "grid_gap": null,
            "max_width": null,
            "order": null,
            "_view_module_version": "1.2.0",
            "grid_template_areas": null,
            "object_position": null,
            "object_fit": null,
            "grid_auto_columns": null,
            "margin": null,
            "display": null,
            "left": null
          }
        },
        "b26b41ace1734d8eaaa4dcc78b015997": {
          "model_module": "@jupyter-widgets/controls",
          "model_name": "FloatProgressModel",
          "state": {
            "_view_name": "ProgressView",
            "style": "IPY_MODEL_83edcc6929f740eab05d64ee03008cdb",
            "_dom_classes": [],
            "description": "Downloading: 100%",
            "_model_name": "FloatProgressModel",
            "bar_style": "success",
            "max": 440473133,
            "_view_module": "@jupyter-widgets/controls",
            "_model_module_version": "1.5.0",
            "value": 440473133,
            "_view_count": null,
            "_view_module_version": "1.5.0",
            "orientation": "horizontal",
            "min": 0,
            "description_tooltip": null,
            "_model_module": "@jupyter-widgets/controls",
            "layout": "IPY_MODEL_c6b2f0eee724453ab35462d83232c46f"
          }
        },
        "2c88b216094a474a96bc6d158212b11d": {
          "model_module": "@jupyter-widgets/controls",
          "model_name": "HTMLModel",
          "state": {
            "_view_name": "HTMLView",
            "style": "IPY_MODEL_fe4cc617dca14941aca5b27d30cd2ef6",
            "_dom_classes": [],
            "description": "",
            "_model_name": "HTMLModel",
            "placeholder": "​",
            "_view_module": "@jupyter-widgets/controls",
            "_model_module_version": "1.5.0",
            "value": " 440M/440M [00:52&lt;00:00, 8.46MB/s]",
            "_view_count": null,
            "_view_module_version": "1.5.0",
            "description_tooltip": null,
            "_model_module": "@jupyter-widgets/controls",
            "layout": "IPY_MODEL_e9ecdd9868014b1a8074b2de542920a8"
          }
        },
        "83edcc6929f740eab05d64ee03008cdb": {
          "model_module": "@jupyter-widgets/controls",
          "model_name": "ProgressStyleModel",
          "state": {
            "_view_name": "StyleView",
            "_model_name": "ProgressStyleModel",
            "description_width": "initial",
            "_view_module": "@jupyter-widgets/base",
            "_model_module_version": "1.5.0",
            "_view_count": null,
            "_view_module_version": "1.2.0",
            "bar_color": null,
            "_model_module": "@jupyter-widgets/controls"
          }
        },
        "c6b2f0eee724453ab35462d83232c46f": {
          "model_module": "@jupyter-widgets/base",
          "model_name": "LayoutModel",
          "state": {
            "_view_name": "LayoutView",
            "grid_template_rows": null,
            "right": null,
            "justify_content": null,
            "_view_module": "@jupyter-widgets/base",
            "overflow": null,
            "_model_module_version": "1.2.0",
            "_view_count": null,
            "flex_flow": null,
            "width": null,
            "min_width": null,
            "border": null,
            "align_items": null,
            "bottom": null,
            "_model_module": "@jupyter-widgets/base",
            "top": null,
            "grid_column": null,
            "overflow_y": null,
            "overflow_x": null,
            "grid_auto_flow": null,
            "grid_area": null,
            "grid_template_columns": null,
            "flex": null,
            "_model_name": "LayoutModel",
            "justify_items": null,
            "grid_row": null,
            "max_height": null,
            "align_content": null,
            "visibility": null,
            "align_self": null,
            "height": null,
            "min_height": null,
            "padding": null,
            "grid_auto_rows": null,
            "grid_gap": null,
            "max_width": null,
            "order": null,
            "_view_module_version": "1.2.0",
            "grid_template_areas": null,
            "object_position": null,
            "object_fit": null,
            "grid_auto_columns": null,
            "margin": null,
            "display": null,
            "left": null
          }
        },
        "fe4cc617dca14941aca5b27d30cd2ef6": {
          "model_module": "@jupyter-widgets/controls",
          "model_name": "DescriptionStyleModel",
          "state": {
            "_view_name": "StyleView",
            "_model_name": "DescriptionStyleModel",
            "description_width": "",
            "_view_module": "@jupyter-widgets/base",
            "_model_module_version": "1.5.0",
            "_view_count": null,
            "_view_module_version": "1.2.0",
            "_model_module": "@jupyter-widgets/controls"
          }
        },
        "e9ecdd9868014b1a8074b2de542920a8": {
          "model_module": "@jupyter-widgets/base",
          "model_name": "LayoutModel",
          "state": {
            "_view_name": "LayoutView",
            "grid_template_rows": null,
            "right": null,
            "justify_content": null,
            "_view_module": "@jupyter-widgets/base",
            "overflow": null,
            "_model_module_version": "1.2.0",
            "_view_count": null,
            "flex_flow": null,
            "width": null,
            "min_width": null,
            "border": null,
            "align_items": null,
            "bottom": null,
            "_model_module": "@jupyter-widgets/base",
            "top": null,
            "grid_column": null,
            "overflow_y": null,
            "overflow_x": null,
            "grid_auto_flow": null,
            "grid_area": null,
            "grid_template_columns": null,
            "flex": null,
            "_model_name": "LayoutModel",
            "justify_items": null,
            "grid_row": null,
            "max_height": null,
            "align_content": null,
            "visibility": null,
            "align_self": null,
            "height": null,
            "min_height": null,
            "padding": null,
            "grid_auto_rows": null,
            "grid_gap": null,
            "max_width": null,
            "order": null,
            "_view_module_version": "1.2.0",
            "grid_template_areas": null,
            "object_position": null,
            "object_fit": null,
            "grid_auto_columns": null,
            "margin": null,
            "display": null,
            "left": null
          }
        }
      }
    }
  },
  "cells": [
    {
      "cell_type": "code",
      "metadata": {
        "colab": {
          "base_uri": "https://localhost:8080/"
        },
        "id": "DoPiWfOd7WSZ",
        "outputId": "ef0c39d0-cfbb-47a6-f637-1f11f57831f5"
      },
      "source": [
        "!pip install transformers\n",
        "from transformers import BertModel, BertTokenizer\n",
        "import torch\n",
        "import torch\n",
        "import torch.nn as nn\n",
        "import torch.optim as optim\n",
        "import pandas as pd\n",
        "import numpy as np\n",
        "import matplotlib.pyplot as plt\n",
        "import time"
      ],
      "execution_count": null,
      "outputs": [
        {
          "output_type": "stream",
          "text": [
            "Collecting transformers\n",
            "\u001b[?25l  Downloading https://files.pythonhosted.org/packages/d8/b2/57495b5309f09fa501866e225c84532d1fd89536ea62406b2181933fb418/transformers-4.5.1-py3-none-any.whl (2.1MB)\n",
            "\u001b[K     |████████████████████████████████| 2.1MB 6.7MB/s \n",
            "\u001b[?25hRequirement already satisfied: numpy>=1.17 in /usr/local/lib/python3.7/dist-packages (from transformers) (1.19.5)\n",
            "Requirement already satisfied: tqdm>=4.27 in /usr/local/lib/python3.7/dist-packages (from transformers) (4.41.1)\n",
            "Requirement already satisfied: filelock in /usr/local/lib/python3.7/dist-packages (from transformers) (3.0.12)\n",
            "Requirement already satisfied: requests in /usr/local/lib/python3.7/dist-packages (from transformers) (2.23.0)\n",
            "Collecting tokenizers<0.11,>=0.10.1\n",
            "\u001b[?25l  Downloading https://files.pythonhosted.org/packages/ae/04/5b870f26a858552025a62f1649c20d29d2672c02ff3c3fb4c688ca46467a/tokenizers-0.10.2-cp37-cp37m-manylinux2010_x86_64.whl (3.3MB)\n",
            "\u001b[K     |████████████████████████████████| 3.3MB 34.9MB/s \n",
            "\u001b[?25hRequirement already satisfied: importlib-metadata; python_version < \"3.8\" in /usr/local/lib/python3.7/dist-packages (from transformers) (3.10.1)\n",
            "Requirement already satisfied: regex!=2019.12.17 in /usr/local/lib/python3.7/dist-packages (from transformers) (2019.12.20)\n",
            "Requirement already satisfied: packaging in /usr/local/lib/python3.7/dist-packages (from transformers) (20.9)\n",
            "Collecting sacremoses\n",
            "\u001b[?25l  Downloading https://files.pythonhosted.org/packages/75/ee/67241dc87f266093c533a2d4d3d69438e57d7a90abb216fa076e7d475d4a/sacremoses-0.0.45-py3-none-any.whl (895kB)\n",
            "\u001b[K     |████████████████████████████████| 901kB 39.6MB/s \n",
            "\u001b[?25hRequirement already satisfied: chardet<4,>=3.0.2 in /usr/local/lib/python3.7/dist-packages (from requests->transformers) (3.0.4)\n",
            "Requirement already satisfied: idna<3,>=2.5 in /usr/local/lib/python3.7/dist-packages (from requests->transformers) (2.10)\n",
            "Requirement already satisfied: urllib3!=1.25.0,!=1.25.1,<1.26,>=1.21.1 in /usr/local/lib/python3.7/dist-packages (from requests->transformers) (1.24.3)\n",
            "Requirement already satisfied: certifi>=2017.4.17 in /usr/local/lib/python3.7/dist-packages (from requests->transformers) (2020.12.5)\n",
            "Requirement already satisfied: typing-extensions>=3.6.4; python_version < \"3.8\" in /usr/local/lib/python3.7/dist-packages (from importlib-metadata; python_version < \"3.8\"->transformers) (3.7.4.3)\n",
            "Requirement already satisfied: zipp>=0.5 in /usr/local/lib/python3.7/dist-packages (from importlib-metadata; python_version < \"3.8\"->transformers) (3.4.1)\n",
            "Requirement already satisfied: pyparsing>=2.0.2 in /usr/local/lib/python3.7/dist-packages (from packaging->transformers) (2.4.7)\n",
            "Requirement already satisfied: click in /usr/local/lib/python3.7/dist-packages (from sacremoses->transformers) (7.1.2)\n",
            "Requirement already satisfied: joblib in /usr/local/lib/python3.7/dist-packages (from sacremoses->transformers) (1.0.1)\n",
            "Requirement already satisfied: six in /usr/local/lib/python3.7/dist-packages (from sacremoses->transformers) (1.15.0)\n",
            "Installing collected packages: tokenizers, sacremoses, transformers\n",
            "Successfully installed sacremoses-0.0.45 tokenizers-0.10.2 transformers-4.5.1\n"
          ],
          "name": "stdout"
        }
      ]
    },
    {
      "cell_type": "code",
      "metadata": {
        "id": "Zls6QHxL-v_x"
      },
      "source": [
        "df = pd.read_csv(\"/content/drive/MyDrive/rec/dataset/sentiment_train.csv\")\n",
        "test_df = pd.read_csv(\"/content/drive/MyDrive/rec/dataset/sentiment_test.csv\")"
      ],
      "execution_count": null,
      "outputs": []
    },
    {
      "cell_type": "code",
      "metadata": {
        "id": "1kLctR0IJICM"
      },
      "source": [
        "validation_df = df.sample(1000)\n",
        "train_df = df.drop(validation_df.index)"
      ],
      "execution_count": null,
      "outputs": []
    },
    {
      "cell_type": "code",
      "metadata": {
        "id": "DlYpmkhvL9ud"
      },
      "source": [
        "train_df.to_csv(\"/content/drive/MyDrive/rec/dataset/train_df.csv\")\n",
        "validation_df.to_csv(\"/content/drive/MyDrive/rec/dataset/validation.csv\")\n",
        "test_df.to_csv(\"/content/drive/MyDrive/rec/dataset/test_df.csv\")"
      ],
      "execution_count": null,
      "outputs": []
    },
    {
      "cell_type": "code",
      "metadata": {
        "id": "elC4BX5aMLM0"
      },
      "source": [
        "train_df = pd.read_csv(\"/content/drive/MyDrive/rec/dataset/train_df.csv\")\n",
        "validation_df = pd.read_csv(\"/content/drive/MyDrive/rec/dataset/validation.csv\")\n",
        "test_df = pd.read_csv(\"/content/drive/MyDrive/rec/dataset/test_df.csv\")"
      ],
      "execution_count": null,
      "outputs": []
    },
    {
      "cell_type": "code",
      "metadata": {
        "colab": {
          "base_uri": "https://localhost:8080/"
        },
        "id": "7HMt6PyEKA3F",
        "outputId": "ee20b454-af2f-4a21-85f5-6260fecd0175"
      },
      "source": [
        "len(train_df), len(validation_df), len(test_df)"
      ],
      "execution_count": null,
      "outputs": [
        {
          "output_type": "execute_result",
          "data": {
            "text/plain": [
              "(26486, 1000, 3535)"
            ]
          },
          "metadata": {
            "tags": []
          },
          "execution_count": 4
        }
      ]
    },
    {
      "cell_type": "code",
      "metadata": {
        "id": "lIusGT5mOF9C"
      },
      "source": [
        "train_df = train_df.fillna(\".\")\n",
        "validation_df = validation_df.fillna(\".\")\n",
        "test_df = test_df.fillna(\".\")"
      ],
      "execution_count": null,
      "outputs": []
    },
    {
      "cell_type": "code",
      "metadata": {
        "colab": {
          "base_uri": "https://localhost:8080/"
        },
        "id": "JSzOVDGK7eC0",
        "outputId": "243c001d-16f9-4fe1-efab-ba4a2f611877"
      },
      "source": [
        "def preprocess(text):\n",
        "  text = str(text)\n",
        "  punctuation = '\"#$%&!?\\()*+-/:;<=>[\\\\]^_`{|}~'\n",
        "  text = text.lower()\n",
        "  all_text = ''.join([c for c in text if c not in punctuation])\n",
        "  s_text = all_text.split()\n",
        "  s = []\n",
        "  for c in s_text:\n",
        "    if ((c.startswith('@') != True) and (c.startswith('http') != True)):\n",
        "      s.append(c)\n",
        "  s = ' '.join(s)\n",
        "  return s\n",
        "\n",
        "for i in range(5):\n",
        "    print(preprocess(df['text'][i]))"
      ],
      "execution_count": null,
      "outputs": [
        {
          "output_type": "stream",
          "text": [
            "spent the entire morning in a meeting w a vendor, and my boss was not happy w them. lots of fun. i had other plans for my morning\n",
            "oh good idea about putting them on ice cream\n",
            "says good or should i say bad afternoon\n",
            "i dont think you can vote anymore i tried\n",
            "haha better drunken tweeting you mean\n"
          ],
          "name": "stdout"
        }
      ]
    },
    {
      "cell_type": "code",
      "metadata": {
        "colab": {
          "base_uri": "https://localhost:8080/",
          "height": 164,
          "referenced_widgets": [
            "4f74a5000e524de09e6ac78ea5887bb7",
            "d0ab3d0ad4e540128d1ba0ac0faad616",
            "7874f94c8a684d65aa954b62bcdddcdf",
            "b3dba71f731b45ca8721627a11a6f010",
            "9832e485b57e4c4584e873ceae3038b6",
            "5442a081a1ea4da99c8752b9031c9103",
            "71cb1858fe914cbe93b8f89236d3a6ff",
            "1c8d06ff4cb3417a83da83926e6b2be6",
            "3d7bddb1ce3a47eeb2d39ddbc46930b3",
            "6ce29a8979b941ef8c773f3ac2526460",
            "e49b224341e945668bc943e86461dab7",
            "4143d08fc14242f6b020157f3eac326e",
            "294f1dafa67f442a89742428a087afa3",
            "17d74326dae84c609aa9d6825af0043c",
            "ae070f25d5a84fb9915ab7e55263a814",
            "62be19467dff4c8a9edd3148667a679a",
            "92fa6b449707457eabc58560541765a7",
            "e9c8250f049a4e4d8616c2ba394ffd64",
            "2792551eec264acd90cff8caa7777369",
            "7e85094b4da544788862a1b0b2d9b3ca",
            "3bbc2b5a3bdb40abb57a6843c8cf410d",
            "32a32d31044f4db0b2bf5236931223b8",
            "6042606690df4c93b898b9e951f5d0da",
            "fcfbcd5f9eb649e4be4a5f25104a7c32"
          ]
        },
        "id": "CeKowGuX9OIa",
        "outputId": "62a85d50-9e13-411f-c7b5-010e8dcb12cd"
      },
      "source": [
        "tokenizer = BertTokenizer.from_pretrained('bert-base-uncased')\n",
        "def get_input(df, batch_size, max_input_tokens, gpu):\n",
        "  batch = np.random.choice(df.index.size, size=(batch_size, ), replace=False)\n",
        "  tweet_array = []\n",
        "  for i in batch:\n",
        "    tweet_array.append(preprocess(df['text'][i]))\n",
        "  tweet_tensors = tokenizer(tweet_array, truncation=True, padding=True, max_length=max_input_tokens, return_tensors='pt')\n",
        "  attention_mask = tweet_tensors['attention_mask']\n",
        "  tweet_tensor = tweet_tensors['input_ids']\n",
        "  if gpu:\n",
        "    tweet_tensor = tweet_tensor.cuda()\n",
        "    attention_mask = attention_mask.cuda()\n",
        "  label = get_label(df, batch, gpu)\n",
        "\n",
        "  return tweet_tensor, attention_mask, label\n",
        "\n",
        "def get_label(df, batch, gpu):\n",
        "\n",
        "  label_tensors = []\n",
        "  for i in batch:\n",
        "      label_tensors.append(get_label_num(df['sentiment'][i]))\n",
        "  label_tensors = torch.LongTensor(label_tensors)\n",
        "  if gpu:\n",
        "    label_tensors = label_tensors.cuda()\n",
        "\n",
        "  return label_tensors\n",
        "\n",
        "def get_label_num(s):\n",
        "    if s == \"neutral\":\n",
        "        num = 0\n",
        "    elif s == \"positive\":\n",
        "        num = 1\n",
        "    elif s == \"negative\":\n",
        "        num = 2\n",
        "    return num"
      ],
      "execution_count": null,
      "outputs": [
        {
          "output_type": "display_data",
          "data": {
            "application/vnd.jupyter.widget-view+json": {
              "model_id": "4f74a5000e524de09e6ac78ea5887bb7",
              "version_minor": 0,
              "version_major": 2
            },
            "text/plain": [
              "HBox(children=(FloatProgress(value=0.0, description='Downloading', max=231508.0, style=ProgressStyle(descripti…"
            ]
          },
          "metadata": {
            "tags": []
          }
        },
        {
          "output_type": "stream",
          "text": [
            "\n"
          ],
          "name": "stdout"
        },
        {
          "output_type": "display_data",
          "data": {
            "application/vnd.jupyter.widget-view+json": {
              "model_id": "3d7bddb1ce3a47eeb2d39ddbc46930b3",
              "version_minor": 0,
              "version_major": 2
            },
            "text/plain": [
              "HBox(children=(FloatProgress(value=0.0, description='Downloading', max=28.0, style=ProgressStyle(description_w…"
            ]
          },
          "metadata": {
            "tags": []
          }
        },
        {
          "output_type": "stream",
          "text": [
            "\n"
          ],
          "name": "stdout"
        },
        {
          "output_type": "display_data",
          "data": {
            "application/vnd.jupyter.widget-view+json": {
              "model_id": "92fa6b449707457eabc58560541765a7",
              "version_minor": 0,
              "version_major": 2
            },
            "text/plain": [
              "HBox(children=(FloatProgress(value=0.0, description='Downloading', max=466062.0, style=ProgressStyle(descripti…"
            ]
          },
          "metadata": {
            "tags": []
          }
        },
        {
          "output_type": "stream",
          "text": [
            "\n"
          ],
          "name": "stdout"
        }
      ]
    },
    {
      "cell_type": "code",
      "metadata": {
        "colab": {
          "base_uri": "https://localhost:8080/",
          "height": 115,
          "referenced_widgets": [
            "fac0fae9bb7e493dbc619aff01ea8c56",
            "da30aa1884914fb0a7dde66f0b11e3d3",
            "30c60eda0612418eb9ec6a627de486b5",
            "d31f4487efeb4d139d255df981c024d8",
            "2bda907813294839b8b19482671ff6ad",
            "44eb3e911bb24a7983ee95ba8f273b07",
            "4cf04391aeb24f8f8cb9ee76e07ce06b",
            "3c204d6d1d1847549b4e317033dcec6d",
            "3016ab9b888e4ac6be9d70681d0ab920",
            "3ac5e4421cfe407da63b2babb42bb52f",
            "b26b41ace1734d8eaaa4dcc78b015997",
            "2c88b216094a474a96bc6d158212b11d",
            "83edcc6929f740eab05d64ee03008cdb",
            "c6b2f0eee724453ab35462d83232c46f",
            "fe4cc617dca14941aca5b27d30cd2ef6",
            "e9ecdd9868014b1a8074b2de542920a8"
          ]
        },
        "id": "-h8lAjpDBzIM",
        "outputId": "51621932-0d86-4e50-ae99-320f133d451e"
      },
      "source": [
        "class Bert_Sentiment(nn.Module):\n",
        "    def __init__(self):\n",
        "        super(Bert_Sentiment, self).__init__()\n",
        "        self.bert = BertModel.from_pretrained('bert-base-uncased')\n",
        "        self.dropout = nn.Dropout(0.1)\n",
        "        self.layer_out = nn.Linear(768, 3)\n",
        "\n",
        "    def forward(self, input, attention_mask=None):\n",
        "        bert_out = self.bert(input, attention_mask=attention_mask)[1]\n",
        "        bert_out = self.dropout(bert_out)\n",
        "        out = self.layer_out(bert_out)\n",
        "        return out\n",
        "\n",
        "model = Bert_Sentiment()\n",
        "model = model.cuda()"
      ],
      "execution_count": null,
      "outputs": [
        {
          "output_type": "display_data",
          "data": {
            "application/vnd.jupyter.widget-view+json": {
              "model_id": "fac0fae9bb7e493dbc619aff01ea8c56",
              "version_minor": 0,
              "version_major": 2
            },
            "text/plain": [
              "HBox(children=(FloatProgress(value=0.0, description='Downloading', max=570.0, style=ProgressStyle(description_…"
            ]
          },
          "metadata": {
            "tags": []
          }
        },
        {
          "output_type": "stream",
          "text": [
            "\n"
          ],
          "name": "stdout"
        },
        {
          "output_type": "display_data",
          "data": {
            "application/vnd.jupyter.widget-view+json": {
              "model_id": "3016ab9b888e4ac6be9d70681d0ab920",
              "version_minor": 0,
              "version_major": 2
            },
            "text/plain": [
              "HBox(children=(FloatProgress(value=0.0, description='Downloading', max=440473133.0, style=ProgressStyle(descri…"
            ]
          },
          "metadata": {
            "tags": []
          }
        },
        {
          "output_type": "stream",
          "text": [
            "\n"
          ],
          "name": "stdout"
        }
      ]
    },
    {
      "cell_type": "code",
      "metadata": {
        "colab": {
          "base_uri": "https://localhost:8080/"
        },
        "id": "41K6qqgAD-UZ",
        "outputId": "bb7ef928-cd32-4874-d706-1810c06d1226"
      },
      "source": [
        "out = model(tweet_tensor, attention_mask)\n",
        "criterion = nn.CrossEntropyLoss()\n",
        "criterion(out, label), label.size(), out.argmax(dim=-1).size()"
      ],
      "execution_count": null,
      "outputs": [
        {
          "output_type": "execute_result",
          "data": {
            "text/plain": [
              "(tensor(0.8907, device='cuda:0', grad_fn=<NllLossBackward>),\n",
              " torch.Size([5]),\n",
              " torch.Size([5]))"
            ]
          },
          "metadata": {
            "tags": []
          },
          "execution_count": 21
        }
      ]
    },
    {
      "cell_type": "code",
      "metadata": {
        "id": "cS9SAUqiDUOP"
      },
      "source": [
        "def train_i(batch_size, max_length, train_dataset, optimizer, model, gpu):\n",
        "    criterion = nn.CrossEntropyLoss()\n",
        "    batch = np.random.choice(train_dataset.index.size, (batch_size, ))\n",
        "    model.train()\n",
        "    optimizer.zero_grad()\n",
        "    tweet_tensor, attention_mask, label = get_input(train_dataset, batch_size, max_length, gpu)\n",
        "    output = model(tweet_tensor, attention_mask)\n",
        "    loss = criterion(output, label)\n",
        "    loss.backward()\n",
        "    optimizer.step()\n",
        "    return loss.item()\n",
        "    del loss, output\n",
        "\n",
        "def validation_i(batch_size, max_length, train_dataset, model, gpu):\n",
        "    with torch.no_grad():\n",
        "        criterion = nn.CrossEntropyLoss()\n",
        "        batch = np.random.choice(train_dataset.index.size, (batch_size, ))\n",
        "        model.eval()\n",
        "        tweet_tensor, attention_mask, label = get_input(train_dataset, batch_size, max_length, gpu)\n",
        "        output = model(tweet_tensor, attention_mask)\n",
        "        loss = criterion(output, label)\n",
        "    return loss.item()\n",
        "    del loss, output\n",
        "\n",
        "def validation_loop(validation_dataset, max_length, batch_size, model, gpu):\n",
        "    with torch.no_grad():\n",
        "        batch = np.random.choice(validation_dataset.index.size, (batch_size, ), replace=False)\n",
        "        model.eval()\n",
        "        tweet_tensor, attention_mask, label = get_input(validation_dataset, batch_size, max_length, gpu)\n",
        "        acc_t = []\n",
        "        for i in range(batch_size):\n",
        "            output = model(tweet_tensor[i].unsqueeze(0), attention_mask[i].unsqueeze(0))\n",
        "            acc = label[i].unsqueeze(0) == output.argmax(-1)\n",
        "            acc_t.append(acc.unsqueeze(0))\n",
        "            del output, acc\n",
        "        acc_t = torch.cat(acc_t, dim=0)\n",
        "        acc_per = acc_t.sum()/batch_size\n",
        "        return acc_per\n",
        "\n",
        "\n",
        "def train(model, epochs, show_count, batch_size, max_length, train_dataset, validation_dataset, gpu, model_path):\n",
        "    if gpu:\n",
        "        model = model.cuda()\n",
        "    else:\n",
        "        model = model.cpu()\n",
        "    train_history = []\n",
        "    validation_history = []\n",
        "    acc = []\n",
        "    start_time = time.time()\n",
        "    optimizer = optim.Adam(model.parameters(), lr=0.00001)\n",
        "    for epoch in range(epochs):\n",
        "        loss_train = train_i(batch_size, max_length, train_dataset, optimizer, model, gpu)\n",
        "        train_history.append(loss_train)\n",
        "        loss_validation = validation_i(batch_size, max_length, validation_dataset, model, gpu)\n",
        "        validation_history.append(loss_validation)\n",
        "        if epoch % show_count == 0:\n",
        "            elapsed_time = time.time() - start_time\n",
        "            print(\"epoch : \", epoch, \"loss_train : \", loss_train, \" loss_validation : \", loss_validation)\n",
        "            print(\"elapsed_time : \", elapsed_time)\n",
        "            acc_i = validation_loop(validation_dataset, max_length, 200, model, gpu)\n",
        "            acc.append(acc_i)\n",
        "            print(\"===========\")\n",
        "    print(\"trainning finished\")\n",
        "    plots(train_history, \"train\", 100, \"loss\", validation_history, \"validation\")\n",
        "    plots(acc, \"acc\", 5, \"acc\")\n",
        "    plots_no_conv(train_history, \"train\", \"loss\", validation_history, \"validation\")\n",
        "    plots_no_conv(acc, \"acc\", \"acc\")\n",
        "    torch.save(model.state_dict(), model_path)\n",
        "    return model\n",
        "\n",
        "\n",
        "def plots(history1, history1_name, num, y_label, history2=None, history2_name=None):\n",
        "    print(\"conv, num=\", num)\n",
        "    fig = plt.figure(figsize=(9.0, 6.0))\n",
        "    plt.rcParams[\"font.size\"] = 18\n",
        "    b=np.ones(num)/num\n",
        "    history1 = np.array(history1)\n",
        "    plt.plot(np.convolve(history1, b, mode='same'), label=history1_name)\n",
        "    if history2 is not None:\n",
        "        history2 = np.array(history2)\n",
        "        plt.plot(np.convolve(history2, b, mode='same'), label=history2_name)\n",
        "    plt.grid()\n",
        "    plt.ylabel(y_label)\n",
        "    plt.legend()\n",
        "    plt.show()  \n",
        "\n",
        "def plots_no_conv(history1, history1_name, y_label, history2=None, history2_name=None):\n",
        "    print(\"no conv\")\n",
        "    fig = plt.figure(figsize=(9.0, 6.0))\n",
        "    plt.rcParams[\"font.size\"] = 18\n",
        "    history1 = np.array(history1)\n",
        "    plt.plot(history1, label=history1_name)\n",
        "    if history2 is not None:\n",
        "        history2 = np.array(history2)\n",
        "        plt.plot(history2, label=history2_name)\n",
        "    plt.grid()\n",
        "    plt.ylabel(y_label)\n",
        "    plt.legend()\n",
        "    plt.show()  "
      ],
      "execution_count": null,
      "outputs": []
    },
    {
      "cell_type": "code",
      "metadata": {
        "colab": {
          "base_uri": "https://localhost:8080/",
          "height": 1000
        },
        "id": "sIWRj6d-DXhB",
        "outputId": "77f9b35d-e034-41fd-e226-7d1d2a9e34e7"
      },
      "source": [
        "model = Bert_Sentiment()\n",
        "epochs = 5000\n",
        "show_count = 50\n",
        "batch_size = 20\n",
        "max_length = 120\n",
        "train_dataset = train_df\n",
        "validation_dataset = validation_df\n",
        "model_path = \"/content/drive/MyDrive/rec/model_parameters/bert_sentiment.pth\"\n",
        "gpu=True\n",
        "model = train(model, epochs, show_count, batch_size, max_length, train_dataset, validation_dataset, gpu, model_path)"
      ],
      "execution_count": null,
      "outputs": [
        {
          "output_type": "stream",
          "text": [
            "epoch :  0 loss_train :  1.0556466579437256  loss_validation :  1.1812036037445068\n",
            "elapsed_time :  0.15462803840637207\n",
            "===========\n",
            "epoch :  50 loss_train :  1.0920263528823853  loss_validation :  0.957131028175354\n",
            "elapsed_time :  9.004357814788818\n",
            "===========\n",
            "epoch :  100 loss_train :  0.8955246210098267  loss_validation :  0.8534156084060669\n",
            "elapsed_time :  17.891590118408203\n",
            "===========\n",
            "epoch :  150 loss_train :  0.8127630352973938  loss_validation :  0.6906217932701111\n",
            "elapsed_time :  26.90350031852722\n",
            "===========\n",
            "epoch :  200 loss_train :  0.7134750485420227  loss_validation :  0.6764556169509888\n",
            "elapsed_time :  35.856085777282715\n",
            "===========\n",
            "epoch :  250 loss_train :  0.5160031318664551  loss_validation :  0.9599601030349731\n",
            "elapsed_time :  44.77337718009949\n",
            "===========\n",
            "epoch :  300 loss_train :  0.42061495780944824  loss_validation :  0.699521541595459\n",
            "elapsed_time :  53.69029211997986\n",
            "===========\n",
            "epoch :  350 loss_train :  1.0096582174301147  loss_validation :  0.5899912118911743\n",
            "elapsed_time :  62.7138454914093\n",
            "===========\n",
            "epoch :  400 loss_train :  0.5445624589920044  loss_validation :  0.6606047749519348\n",
            "elapsed_time :  71.64249420166016\n",
            "===========\n",
            "epoch :  450 loss_train :  0.6510648131370544  loss_validation :  0.7123912572860718\n",
            "elapsed_time :  80.59075117111206\n",
            "===========\n",
            "epoch :  500 loss_train :  0.4166899621486664  loss_validation :  0.4286850094795227\n",
            "elapsed_time :  89.63041114807129\n",
            "===========\n",
            "epoch :  550 loss_train :  0.6931301355361938  loss_validation :  0.4728047847747803\n",
            "elapsed_time :  98.58849143981934\n",
            "===========\n",
            "epoch :  600 loss_train :  0.3537582755088806  loss_validation :  0.7635573148727417\n",
            "elapsed_time :  107.43325018882751\n",
            "===========\n",
            "epoch :  650 loss_train :  0.4704417288303375  loss_validation :  0.523063063621521\n",
            "elapsed_time :  116.3808364868164\n",
            "===========\n",
            "epoch :  700 loss_train :  0.38209816813468933  loss_validation :  0.5434930920600891\n",
            "elapsed_time :  125.33636140823364\n",
            "===========\n",
            "epoch :  750 loss_train :  0.7146845459938049  loss_validation :  0.4758426547050476\n",
            "elapsed_time :  134.19789361953735\n",
            "===========\n",
            "epoch :  800 loss_train :  0.7718270421028137  loss_validation :  0.3736089766025543\n",
            "elapsed_time :  143.1034779548645\n",
            "===========\n",
            "epoch :  850 loss_train :  0.2522343099117279  loss_validation :  0.4644458293914795\n",
            "elapsed_time :  152.01841473579407\n",
            "===========\n",
            "epoch :  900 loss_train :  0.35551944375038147  loss_validation :  0.9017346501350403\n",
            "elapsed_time :  160.78122353553772\n",
            "===========\n",
            "epoch :  950 loss_train :  0.3543025851249695  loss_validation :  0.48509281873703003\n",
            "elapsed_time :  169.55628538131714\n",
            "===========\n",
            "epoch :  1000 loss_train :  0.47230082750320435  loss_validation :  0.7196017503738403\n",
            "elapsed_time :  178.4433786869049\n",
            "===========\n",
            "epoch :  1050 loss_train :  0.43135887384414673  loss_validation :  0.43628185987472534\n",
            "elapsed_time :  187.36235189437866\n",
            "===========\n",
            "epoch :  1100 loss_train :  0.8016011118888855  loss_validation :  0.32950910925865173\n",
            "elapsed_time :  196.27176547050476\n",
            "===========\n",
            "epoch :  1150 loss_train :  0.6050127744674683  loss_validation :  0.43446260690689087\n",
            "elapsed_time :  205.17081308364868\n",
            "===========\n",
            "epoch :  1200 loss_train :  0.2811341881752014  loss_validation :  0.41177648305892944\n",
            "elapsed_time :  214.04273414611816\n",
            "===========\n",
            "epoch :  1250 loss_train :  0.822618305683136  loss_validation :  0.6052860617637634\n",
            "elapsed_time :  222.99687004089355\n",
            "===========\n",
            "epoch :  1300 loss_train :  0.41965970396995544  loss_validation :  0.9634976387023926\n",
            "elapsed_time :  231.90628910064697\n",
            "===========\n",
            "epoch :  1350 loss_train :  0.45015063881874084  loss_validation :  0.7462497353553772\n",
            "elapsed_time :  240.85201334953308\n",
            "===========\n",
            "epoch :  1400 loss_train :  0.29900869727134705  loss_validation :  0.6069382429122925\n",
            "elapsed_time :  249.72407722473145\n",
            "===========\n",
            "epoch :  1450 loss_train :  0.3038727641105652  loss_validation :  0.3993990123271942\n",
            "elapsed_time :  258.62750339508057\n",
            "===========\n",
            "epoch :  1500 loss_train :  0.5113454461097717  loss_validation :  0.6170765161514282\n",
            "elapsed_time :  267.55726885795593\n",
            "===========\n",
            "epoch :  1550 loss_train :  0.51744544506073  loss_validation :  0.48020118474960327\n",
            "elapsed_time :  276.49267411231995\n",
            "===========\n",
            "epoch :  1600 loss_train :  0.26578259468078613  loss_validation :  0.7108118534088135\n",
            "elapsed_time :  285.4618892669678\n",
            "===========\n",
            "epoch :  1650 loss_train :  0.3023223280906677  loss_validation :  0.9146524667739868\n",
            "elapsed_time :  294.3778772354126\n",
            "===========\n",
            "epoch :  1700 loss_train :  0.4463091492652893  loss_validation :  0.9477588534355164\n",
            "elapsed_time :  303.3593339920044\n",
            "===========\n",
            "epoch :  1750 loss_train :  0.3616333603858948  loss_validation :  0.4595243036746979\n",
            "elapsed_time :  312.28556728363037\n",
            "===========\n",
            "epoch :  1800 loss_train :  0.19308073818683624  loss_validation :  1.0062249898910522\n",
            "elapsed_time :  321.1697528362274\n",
            "===========\n",
            "epoch :  1850 loss_train :  0.42312508821487427  loss_validation :  0.9361834526062012\n",
            "elapsed_time :  330.043016910553\n",
            "===========\n",
            "epoch :  1900 loss_train :  0.3696568012237549  loss_validation :  0.42767494916915894\n",
            "elapsed_time :  338.91977047920227\n",
            "===========\n",
            "epoch :  1950 loss_train :  0.3736411929130554  loss_validation :  0.3310331106185913\n",
            "elapsed_time :  347.81683230400085\n",
            "===========\n",
            "epoch :  2000 loss_train :  0.45460429787635803  loss_validation :  0.8086975812911987\n",
            "elapsed_time :  356.8343641757965\n",
            "===========\n",
            "epoch :  2050 loss_train :  0.6352898478507996  loss_validation :  0.7679352164268494\n",
            "elapsed_time :  365.77426648139954\n",
            "===========\n",
            "epoch :  2100 loss_train :  0.6315363645553589  loss_validation :  0.5069694519042969\n",
            "elapsed_time :  374.7271568775177\n",
            "===========\n",
            "epoch :  2150 loss_train :  0.24295219779014587  loss_validation :  0.26098018884658813\n",
            "elapsed_time :  383.65230774879456\n",
            "===========\n",
            "epoch :  2200 loss_train :  0.4014875292778015  loss_validation :  0.5856658220291138\n",
            "elapsed_time :  392.4775297641754\n",
            "===========\n",
            "epoch :  2250 loss_train :  0.3658211827278137  loss_validation :  0.8054401278495789\n",
            "elapsed_time :  401.3484945297241\n",
            "===========\n",
            "epoch :  2300 loss_train :  0.6129628419876099  loss_validation :  0.4432526230812073\n",
            "elapsed_time :  410.2826509475708\n",
            "===========\n",
            "epoch :  2350 loss_train :  0.549635112285614  loss_validation :  0.7864002585411072\n",
            "elapsed_time :  419.31578302383423\n",
            "===========\n",
            "epoch :  2400 loss_train :  0.5336875915527344  loss_validation :  0.5520333051681519\n",
            "elapsed_time :  428.21327662467957\n",
            "===========\n",
            "epoch :  2450 loss_train :  0.23642809689044952  loss_validation :  0.4525730609893799\n",
            "elapsed_time :  437.20578026771545\n",
            "===========\n",
            "epoch :  2500 loss_train :  0.33674657344818115  loss_validation :  0.4378723204135895\n",
            "elapsed_time :  446.14689898490906\n",
            "===========\n",
            "epoch :  2550 loss_train :  0.34393757581710815  loss_validation :  0.5673933029174805\n",
            "elapsed_time :  455.05558705329895\n",
            "===========\n",
            "epoch :  2600 loss_train :  0.3330708146095276  loss_validation :  0.7701964974403381\n",
            "elapsed_time :  463.98291063308716\n",
            "===========\n",
            "epoch :  2650 loss_train :  0.5473862290382385  loss_validation :  0.5992909669876099\n",
            "elapsed_time :  472.86546087265015\n",
            "===========\n",
            "epoch :  2700 loss_train :  0.24640662968158722  loss_validation :  0.8067835569381714\n",
            "elapsed_time :  481.83749413490295\n",
            "===========\n",
            "epoch :  2750 loss_train :  0.3653072118759155  loss_validation :  0.3821101784706116\n",
            "elapsed_time :  490.8738331794739\n",
            "===========\n",
            "epoch :  2800 loss_train :  0.3698907494544983  loss_validation :  0.6277820467948914\n",
            "elapsed_time :  499.8652582168579\n",
            "===========\n",
            "epoch :  2850 loss_train :  0.5282471179962158  loss_validation :  0.517949104309082\n",
            "elapsed_time :  508.6919193267822\n",
            "===========\n",
            "epoch :  2900 loss_train :  0.5937573313713074  loss_validation :  0.714903712272644\n",
            "elapsed_time :  517.7318346500397\n",
            "===========\n",
            "epoch :  2950 loss_train :  0.2938193678855896  loss_validation :  0.9054777026176453\n",
            "elapsed_time :  526.6530323028564\n",
            "===========\n",
            "epoch :  3000 loss_train :  0.3310358226299286  loss_validation :  0.32018357515335083\n",
            "elapsed_time :  535.5798547267914\n",
            "===========\n",
            "epoch :  3050 loss_train :  0.46860170364379883  loss_validation :  0.9545914530754089\n",
            "elapsed_time :  544.5429694652557\n",
            "===========\n",
            "epoch :  3100 loss_train :  0.2086685448884964  loss_validation :  0.45347896218299866\n",
            "elapsed_time :  553.3697063922882\n",
            "===========\n",
            "epoch :  3150 loss_train :  0.27355343103408813  loss_validation :  1.5097906589508057\n",
            "elapsed_time :  562.3950426578522\n",
            "===========\n",
            "epoch :  3200 loss_train :  0.09474711120128632  loss_validation :  1.3254573345184326\n",
            "elapsed_time :  571.2179398536682\n",
            "===========\n",
            "epoch :  3250 loss_train :  0.2399211823940277  loss_validation :  0.317425400018692\n",
            "elapsed_time :  580.1919720172882\n",
            "===========\n",
            "epoch :  3300 loss_train :  0.14030569791793823  loss_validation :  0.5436896681785583\n",
            "elapsed_time :  588.9945096969604\n",
            "===========\n",
            "epoch :  3350 loss_train :  0.3250545859336853  loss_validation :  0.8295561671257019\n",
            "elapsed_time :  597.9164915084839\n",
            "===========\n",
            "epoch :  3400 loss_train :  0.19531303644180298  loss_validation :  0.7759113907814026\n",
            "elapsed_time :  606.8574838638306\n",
            "===========\n",
            "epoch :  3450 loss_train :  0.604719340801239  loss_validation :  0.48898324370384216\n",
            "elapsed_time :  615.7768170833588\n",
            "===========\n",
            "epoch :  3500 loss_train :  0.27272939682006836  loss_validation :  0.1964501142501831\n",
            "elapsed_time :  624.6763634681702\n",
            "===========\n",
            "epoch :  3550 loss_train :  0.2523336410522461  loss_validation :  0.6341295838356018\n",
            "elapsed_time :  633.567991733551\n",
            "===========\n",
            "epoch :  3600 loss_train :  0.29184359312057495  loss_validation :  0.38020986318588257\n",
            "elapsed_time :  642.5027015209198\n",
            "===========\n",
            "epoch :  3650 loss_train :  0.25732868909835815  loss_validation :  0.7576318979263306\n",
            "elapsed_time :  651.453263759613\n",
            "===========\n",
            "epoch :  3700 loss_train :  0.2256258726119995  loss_validation :  0.419522762298584\n",
            "elapsed_time :  660.3487026691437\n",
            "===========\n",
            "epoch :  3750 loss_train :  0.2765657901763916  loss_validation :  0.6800093054771423\n",
            "elapsed_time :  669.2400534152985\n",
            "===========\n",
            "epoch :  3800 loss_train :  0.2193903923034668  loss_validation :  0.43045520782470703\n",
            "elapsed_time :  678.1337530612946\n",
            "===========\n",
            "epoch :  3850 loss_train :  0.20001617074012756  loss_validation :  0.5778595209121704\n",
            "elapsed_time :  687.0514738559723\n",
            "===========\n",
            "epoch :  3900 loss_train :  0.5239790678024292  loss_validation :  1.0650756359100342\n",
            "elapsed_time :  695.8273546695709\n",
            "===========\n",
            "epoch :  3950 loss_train :  0.33532679080963135  loss_validation :  0.7519692182540894\n",
            "elapsed_time :  704.713595867157\n",
            "===========\n",
            "epoch :  4000 loss_train :  0.10576176643371582  loss_validation :  0.7323141098022461\n",
            "elapsed_time :  713.5688352584839\n",
            "===========\n",
            "epoch :  4050 loss_train :  0.5270384550094604  loss_validation :  0.9479120969772339\n",
            "elapsed_time :  722.5557289123535\n",
            "===========\n",
            "epoch :  4100 loss_train :  0.1634255200624466  loss_validation :  0.45444321632385254\n",
            "elapsed_time :  731.4234097003937\n",
            "===========\n",
            "epoch :  4150 loss_train :  0.08082516491413116  loss_validation :  1.0661849975585938\n",
            "elapsed_time :  740.451504945755\n",
            "===========\n",
            "epoch :  4200 loss_train :  0.2648908495903015  loss_validation :  1.006165623664856\n",
            "elapsed_time :  749.4876770973206\n",
            "===========\n",
            "epoch :  4250 loss_train :  0.1669209897518158  loss_validation :  0.8934297561645508\n",
            "elapsed_time :  758.3890872001648\n",
            "===========\n",
            "epoch :  4300 loss_train :  0.33744555711746216  loss_validation :  0.5345701575279236\n",
            "elapsed_time :  767.3278515338898\n",
            "===========\n",
            "epoch :  4350 loss_train :  0.16180995106697083  loss_validation :  0.7900301814079285\n",
            "elapsed_time :  776.2336955070496\n",
            "===========\n",
            "epoch :  4400 loss_train :  0.18405026197433472  loss_validation :  0.7604109644889832\n",
            "elapsed_time :  785.0148327350616\n",
            "===========\n",
            "epoch :  4450 loss_train :  0.10658570379018784  loss_validation :  0.7759289741516113\n",
            "elapsed_time :  793.9792432785034\n",
            "===========\n",
            "epoch :  4500 loss_train :  0.13005051016807556  loss_validation :  0.708310604095459\n",
            "elapsed_time :  802.9085536003113\n",
            "===========\n",
            "epoch :  4550 loss_train :  0.4182475209236145  loss_validation :  0.564157247543335\n",
            "elapsed_time :  811.7413794994354\n",
            "===========\n",
            "epoch :  4600 loss_train :  0.153752863407135  loss_validation :  0.8566721677780151\n",
            "elapsed_time :  820.6287586688995\n",
            "===========\n",
            "epoch :  4650 loss_train :  0.05599634721875191  loss_validation :  1.1952192783355713\n",
            "elapsed_time :  829.5069842338562\n",
            "===========\n",
            "epoch :  4700 loss_train :  0.36916884779930115  loss_validation :  0.9767263531684875\n",
            "elapsed_time :  838.2995703220367\n",
            "===========\n",
            "epoch :  4750 loss_train :  0.31257307529449463  loss_validation :  0.7976720333099365\n",
            "elapsed_time :  847.1582503318787\n",
            "===========\n",
            "epoch :  4800 loss_train :  0.3188023269176483  loss_validation :  0.5725104808807373\n",
            "elapsed_time :  856.1132266521454\n",
            "===========\n",
            "epoch :  4850 loss_train :  0.16092632710933685  loss_validation :  0.6273152828216553\n",
            "elapsed_time :  865.0578501224518\n",
            "===========\n",
            "epoch :  4900 loss_train :  0.09304399788379669  loss_validation :  0.6673076152801514\n",
            "elapsed_time :  874.1499557495117\n",
            "===========\n",
            "epoch :  4950 loss_train :  0.15340879559516907  loss_validation :  0.8225297927856445\n",
            "elapsed_time :  883.0335426330566\n",
            "===========\n",
            "trainning finished\n",
            "conv, num= 100\n"
          ],
          "name": "stdout"
        },
        {
          "output_type": "display_data",
          "data": {
            "image/png": "[encoded data removed]",
            "text/plain": [
              "<Figure size 648x432 with 1 Axes>"
            ]
          },
          "metadata": {
            "tags": [],
            "needs_background": "light"
          }
        },
        {
          "output_type": "stream",
          "text": [
            "conv, num= 5\n"
          ],
          "name": "stdout"
        },
        {
          "output_type": "display_data",
          "data": {
            "image/png": "[encoded data removed]",
            "text/plain": [
              "<Figure size 648x432 with 1 Axes>"
            ]
          },
          "metadata": {
            "tags": [],
            "needs_background": "light"
          }
        },
        {
          "output_type": "stream",
          "text": [
            "no conv\n"
          ],
          "name": "stdout"
        },
        {
          "output_type": "display_data",
          "data": {
            "image/png": "[encoded data removed]",
            "text/plain": [
              "<Figure size 648x432 with 1 Axes>"
            ]
          },
          "metadata": {
            "tags": [],
            "needs_background": "light"
          }
        },
        {
          "output_type": "stream",
          "text": [
            "no conv\n"
          ],
          "name": "stdout"
        },
        {
          "output_type": "display_data",
          "data": {
            "image/png": "[encoded data removed]",
            "text/plain": [
              "<Figure size 648x432 with 1 Axes>"
            ]
          },
          "metadata": {
            "tags": [],
            "needs_background": "light"
          }
        }
      ]
    },
    {
      "cell_type": "code",
      "metadata": {
        "colab": {
          "base_uri": "https://localhost:8080/"
        },
        "id": "0hfiVyEDPlzl",
        "outputId": "8dc862ec-4cd0-4077-a6ab-36400439aa31"
      },
      "source": [
        "validation_loop(test_df, max_length, 200, model, gpu)"
      ],
      "execution_count": null,
      "outputs": [
        {
          "output_type": "execute_result",
          "data": {
            "text/plain": [
              "tensor(0.7850, device='cuda:0')"
            ]
          },
          "metadata": {
            "tags": []
          },
          "execution_count": 85
        }
      ]
    },
    {
      "cell_type": "code",
      "metadata": {
        "colab": {
          "base_uri": "https://localhost:8080/"
        },
        "id": "hIFiyVUanoka",
        "outputId": "010fc700-fed5-4169-c31d-0b7c86c3c22a"
      },
      "source": [
        "model_path = \"/content/drive/MyDrive/rec/model_parameters/bert_sentiment.pth\"\n",
        "model.load_state_dict(torch.load(model_path))"
      ],
      "execution_count": null,
      "outputs": [
        {
          "output_type": "execute_result",
          "data": {
            "text/plain": [
              "<All keys matched successfully>"
            ]
          },
          "metadata": {
            "tags": []
          },
          "execution_count": 11
        }
      ]
    },
    {
      "cell_type": "code",
      "metadata": {
        "id": "qk5c_6NJnWaH"
      },
      "source": [
        "def get_f(n):\n",
        "    tfpn = np.array(size=(4, ))\n",
        "    \n",
        "    if label == n:\n",
        "        if "
      ],
      "execution_count": null,
      "outputs": []
    },
    {
      "cell_type": "code",
      "metadata": {
        "colab": {
          "base_uri": "https://localhost:8080/"
        },
        "id": "96elG-KwQJv1",
        "outputId": "7b63158f-2577-4993-e043-a623d4029575"
      },
      "source": [
        "def get_f(test_df, max_length, model, gpu, n):\n",
        "    with torch.no_grad():\n",
        "        model.eval()\n",
        "        tweet_tensor, attention_mask, label = get_input(test_df, len(test_df), max_length, gpu)\n",
        "        tfpn = np.zeros((4, ))\n",
        "        for i in range(len(test_df)):\n",
        "            input = tweet_tensor[i].unsqueeze(0)\n",
        "            att_mask = attention_mask[i].unsqueeze(0)\n",
        "            label_i = label[i].unsqueeze(0)\n",
        "\n",
        "            output = model(input, att_mask)\n",
        "            if label_i == n:\n",
        "                if output.argmax(-1) == label_i:\n",
        "                    tfpn[0] += 1\n",
        "                else:\n",
        "                    tfpn[3] += 1\n",
        "            else:\n",
        "                if output.argmax(-1) == label_i:\n",
        "                    tfpn[1] += 1\n",
        "                else:\n",
        "                    tfpn[2] += 1\n",
        "            \n",
        "            del output, input, att_mask, label_i\n",
        "        recall = tfpn[0] / (tfpn[0] + tfpn[3])\n",
        "        precision = tfpn[0] / (tfpn[0] + tfpn[2])\n",
        "        f_value = 2*recall*precision / (recall + precision)\n",
        "        return [recall, precision, f_value]\n",
        "\n",
        "label_name = [\"neutral\", \"positive\", \"negative\"]\n",
        "for i in range(3):\n",
        "    print(label_name[i])\n",
        "    f = get_f(test_df, 120, model, True, i)\n",
        "    print(\"recall : \", f[0])\n",
        "    print(\"precision : \", f[1])\n",
        "    print(\"f_value : \", f[2])\n",
        "    print(\"-------------------\")"
      ],
      "execution_count": null,
      "outputs": [
        {
          "output_type": "stream",
          "text": [
            "neutral\n",
            "recall :  0.7741258741258741\n",
            "precision :  0.7123552123552124\n",
            "f_value :  0.7419571045576407\n",
            "-------------------\n",
            "positive\n",
            "recall :  0.8251811594202898\n",
            "precision :  0.6122311827956989\n",
            "f_value :  0.7029320987654321\n",
            "-------------------\n",
            "negative\n",
            "recall :  0.7462537462537463\n",
            "precision :  0.5914489311163895\n",
            "f_value :  0.6598939929328623\n",
            "-------------------\n"
          ],
          "name": "stdout"
        }
      ]
    },
    {
      "cell_type": "code",
      "metadata": {
        "id": "wCoj8jwqrhPJ"
      },
      "source": [
        ""
      ],
      "execution_count": null,
      "outputs": []
    }
  ]
}